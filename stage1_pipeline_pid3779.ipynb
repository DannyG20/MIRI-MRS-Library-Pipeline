{
 "cells": [
  {
   "cell_type": "markdown",
   "id": "1af2428f",
   "metadata": {},
   "source": [
    "# Automated pipeline to run BFE corrections in stage 1\n",
    "Takes an _uncal_ file and can apply either the 'grid' correction (directly applying ramp solutions from the closest pointing), or the 'interpolated' correction (gets ramp solutions based on an interpolated function using the offset from PSF centre). Requires a _rate_ file to centroid on. It is advised to run the 'grid' option on point source data with TA in one of the nominal point source dither positions, and 'interp' on point source data in a different position. Currently only applicable to channels 1 and 2."
   ]
  },
  {
   "cell_type": "code",
   "execution_count": null,
   "id": "33b443e3",
   "metadata": {},
   "outputs": [],
   "source": [
    "crds_cache_path = '' ## Set path to cache of JWST pipeline"
   ]
  },
  {
   "cell_type": "code",
   "execution_count": null,
   "id": "58d8d6cf",
   "metadata": {},
   "outputs": [],
   "source": [
    "from jwst.pipeline import Detector1Pipeline\n",
    "\n",
    "from astropy.io import fits\n",
    "\n",
    "import core.linearity_coeff_ref_files as lin_ref\n",
    "\n",
    "os.environ['CRDS_CONTEXT'] = '' #Set pmap\n",
    "os.environ['CRDS_PATH'] = crds_cache_path #set cache path (defined in cell above)\n",
    "os.environ['CRDS_SERVER_URL'] = 'https://jwst-crds.stsci.edu/'\n",
    "\n",
    "from IPython.display import display, HTML\n",
    "display(HTML(\"<style>.container { width:100% !important; }</style>\"))"
   ]
  },
  {
   "cell_type": "code",
   "execution_count": null,
   "id": "05b49e50",
   "metadata": {},
   "outputs": [],
   "source": [
    "inputDir = [''] #list of input directories (one per file)\n",
    "\n",
    "rateDir = '' #location of previously reduced rate files for centroiding\n",
    "\n",
    "outDir = '' #location to put output\n",
    "\n",
    "refDir = './references/DISTORTION/' #location of distortion files (do NOT change unless location was manually changed)\n",
    "\n",
    "file_list = [''] #list of files to reduce (should be uncal)\n",
    "\n",
    "\n",
    "linFile = 'grid' #'grid' or 'interp'\n",
    "saveRamp = False #Set to true if you wish to check the linearity of the reduced ramps\n",
    "distVers = 'flt8'"
   ]
  },
  {
   "cell_type": "code",
   "execution_count": null,
   "id": "c09b1378",
   "metadata": {},
   "outputs": [],
   "source": [
    "def run_pipeline(list_of_files, input_dir, output_dir, rate_dir, lin_file, step=1, ramp_save = False):\n",
    "\n",
    "    for i in range(len(list_of_files)):\n",
    "        \n",
    "        file=list_of_files[i]\n",
    "        print(list_of_files[i])\n",
    "        \n",
    "        if step==1:\n",
    "            \n",
    "            filesplit = file.split('_')\n",
    "            ratefile = filesplit[0] + '_' + filesplit[1] + '_' + filesplit[2] + '_' + filesplit[3] + '_rate.fits'\n",
    "            num = int((filesplit[2])[-1])\n",
    "            \n",
    "            rate = fits.open(rate_dir+ratefile)\n",
    "            \n",
    "            if lin_file == 'interp':\n",
    "                lin_ref.gen_custom_linearity(rate,refDir,crds_cache_path,num=num,file_ver='v2',dist_ver=distVers)\n",
    "                print('file generated')\n",
    "                linearity_file = './references/LINEARITY/custom_linearity_ref_{}_v2.fits'.format(num)\n",
    "            elif lin_file == 'grid':\n",
    "                linearity_file = lin_ref.find_nearest_grid(rate,refDir,'./references/LINEARITY/',num=num,dist_ver=distVers)\n",
    "                linearity_file = './references/LINEARITY/'+linearity_file\n",
    "            \n",
    "            rate.close()\n",
    "            \n",
    "            pipe = Detector1Pipeline()\n",
    "\n",
    "            pipe.save_calibrated_ramp = ramp_save\n",
    "\n",
    "            pipe.linearity.skip = False\n",
    "            pipe.group_scale.skip = True\n",
    "            pipe.dq_init.skip = False\n",
    "            pipe.superbias.skip = False\n",
    "            pipe.gain_scale.skip = True\n",
    "#             pipe.emicorr.skip = False\n",
    "            pipe.saturation.skip = False\n",
    "            pipe.ipc.skip = True\n",
    "            pipe.firstframe.skip = False\n",
    "            pipe.lastframe.skip = False\n",
    "            pipe.reset.skip = False\n",
    "            pipe.saturation.n_pix_grow_sat = 0\n",
    "            pipe.charge_migration.skip = True\n",
    "            pipe.linearity.override_linearity = linearity_file\n",
    "            pipe.rscd.skip = False\n",
    "            pipe.dark_current.skip = False\n",
    "            pipe.refpix.skip = False\n",
    "\n",
    "            pipe.save_results = True\n",
    "            pipe.output_dir = output_dir\n",
    "\n",
    "            result = pipe.run(input_dir[i]+file)"
   ]
  },
  {
   "cell_type": "code",
   "execution_count": null,
   "id": "15534fc2",
   "metadata": {
    "scrolled": true
   },
   "outputs": [],
   "source": [
    "run_pipeline(file_list, inputDir, outDir, rateDir, lin_file = linFile, ramp_save = saveRamp)"
   ]
  }
 ],
 "metadata": {
  "kernelspec": {
   "display_name": "Python 3 (ipykernel)",
   "language": "python",
   "name": "python3"
  },
  "language_info": {
   "codemirror_mode": {
    "name": "ipython",
    "version": 3
   },
   "file_extension": ".py",
   "mimetype": "text/x-python",
   "name": "python",
   "nbconvert_exporter": "python",
   "pygments_lexer": "ipython3",
   "version": "3.10.13"
  }
 },
 "nbformat": 4,
 "nbformat_minor": 5
}
